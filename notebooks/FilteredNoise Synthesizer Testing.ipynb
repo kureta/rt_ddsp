{
 "cells": [
  {
   "cell_type": "code",
   "execution_count": 1,
   "id": "debc735b",
   "metadata": {},
   "outputs": [],
   "source": [
    "%matplotlib inline\n",
    "import matplotlib.pyplot as plt\n",
    "plt.rcParams['figure.figsize'] = [17, 12]\n",
    "from IPython.display import Audio"
   ]
  },
  {
   "cell_type": "code",
   "execution_count": 2,
   "id": "6965f6e2",
   "metadata": {},
   "outputs": [],
   "source": [
    "import numpy as np\n",
    "import torch\n",
    "from scipy.signal import find_peaks"
   ]
  },
  {
   "cell_type": "code",
   "execution_count": 3,
   "id": "3253a858",
   "metadata": {},
   "outputs": [],
   "source": [
    "from rt_ddsp.synths import FilteredNoise\n",
    "from rt_ddsp import core"
   ]
  },
  {
   "cell_type": "markdown",
   "id": "112c0455",
   "metadata": {},
   "source": [
    "## Make some changes"
   ]
  }
 ],
 "metadata": {
  "kernelspec": {
   "display_name": "Python 3 (ipykernel)",
   "language": "python",
   "name": "python3"
  },
  "language_info": {
   "codemirror_mode": {
    "name": "ipython",
    "version": 3
   },
   "file_extension": ".py",
   "mimetype": "text/x-python",
   "name": "python",
   "nbconvert_exporter": "python",
   "pygments_lexer": "ipython3",
   "version": "3.9.6"
  }
 },
 "nbformat": 4,
 "nbformat_minor": 5
}
