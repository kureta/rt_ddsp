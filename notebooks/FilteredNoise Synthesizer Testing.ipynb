{
 "cells": [
  {
   "cell_type": "code",
   "execution_count": null,
   "id": "debc735b",
   "metadata": {},
   "outputs": [],
   "source": [
    "%matplotlib inline\n",
    "import matplotlib.pyplot as plt\n",
    "plt.rcParams['figure.figsize'] = [17, 6]\n",
    "from IPython.display import Audio"
   ]
  },
  {
   "cell_type": "code",
   "execution_count": null,
   "id": "6965f6e2",
   "metadata": {},
   "outputs": [],
   "source": [
    "import numpy as np\n",
    "import torch\n",
    "import torch.nn.functional as F\n",
    "import scipy.signal\n",
    "from librosa.display import waveshow\n",
    "import librosa"
   ]
  },
  {
   "cell_type": "code",
   "execution_count": null,
   "id": "3253a858",
   "metadata": {},
   "outputs": [],
   "source": [
    "from rt_ddsp.synths import FilteredNoise\n",
    "from rt_ddsp import core"
   ]
  },
  {
   "cell_type": "code",
   "execution_count": null,
   "id": "81ef7160",
   "metadata": {},
   "outputs": [],
   "source": [
    "n_samples = 32000\n",
    "sample_rate = 16000\n",
    "n_bands = 100"
   ]
  },
  {
   "cell_type": "markdown",
   "id": "95014778",
   "metadata": {},
   "source": [
    "# I might need to re-implement the `FilteredNoise` class\n",
    "\n",
    "Everything required to implement one is below.\n",
    "\n",
    "Also I might need to try a different overlapping windowing strategy. Just a flat (boxcar) window along the slice, with two halves of hann windows on the side. But hiss seems to be a waste of time now."
   ]
  },
  {
   "cell_type": "code",
   "execution_count": null,
   "id": "86ee4a98",
   "metadata": {},
   "outputs": [],
   "source": [
    "signal = np.random.uniform(low=-1.0, high=1.0, size=n_samples)"
   ]
  },
  {
   "cell_type": "code",
   "execution_count": null,
   "id": "add9ce9e",
   "metadata": {},
   "outputs": [],
   "source": [
    "Audio(signal, rate=sample_rate, normalize=True)"
   ]
  },
  {
   "cell_type": "code",
   "execution_count": null,
   "id": "c2ef40ad",
   "metadata": {},
   "outputs": [],
   "source": [
    "plt.plot(signal[:1000])\n",
    "plt.show()"
   ]
  },
  {
   "cell_type": "code",
   "execution_count": null,
   "id": "44a27bfc",
   "metadata": {},
   "outputs": [],
   "source": [
    "def gaussian(x, mu, sig):\n",
    "    return np.exp(-np.power(x - mu, 2.) / (2 * np.power(sig, 2.)))"
   ]
  },
  {
   "cell_type": "code",
   "execution_count": null,
   "id": "3a33ce91",
   "metadata": {},
   "outputs": [],
   "source": [
    "def padded_hann(n):\n",
    "    hann = np.hanning(80)\n",
    "    l_pad = 1 + n * 80\n",
    "    r_pad = 8000 - (n + 1) * 80\n",
    "    return np.pad(hann, (l_pad, r_pad))"
   ]
  },
  {
   "cell_type": "code",
   "execution_count": null,
   "id": "aff9d591",
   "metadata": {},
   "outputs": [],
   "source": [
    "def padded_hann(n):\n",
    "    hann = np.hanning(160)\n",
    "    l_pad = n * 80 - 80\n",
    "    if l_pad < 0:\n",
    "        l_pad = 0\n",
    "        hann = hann[80:]\n",
    "    r_pad = 8000 - (n + 1) * 80\n",
    "    if r_pad < 0:\n",
    "        r_pad = 0\n",
    "        hann = hann[:80]\n",
    "    return np.pad(hann, (l_pad + 1, r_pad))"
   ]
  },
  {
   "cell_type": "code",
   "execution_count": null,
   "id": "0bcec9c3",
   "metadata": {},
   "outputs": [],
   "source": [
    "one_bands = [5, 6, 12, 20, 21, 22, 23, 24, 25]"
   ]
  },
  {
   "cell_type": "code",
   "execution_count": null,
   "id": "2b85a595",
   "metadata": {},
   "outputs": [],
   "source": [
    "fdg_filter = sum([padded_hann(i) for i in one_bands])"
   ]
  },
  {
   "cell_type": "code",
   "execution_count": null,
   "id": "17b0d3a3",
   "metadata": {},
   "outputs": [],
   "source": [
    "fdg_filter.shape"
   ]
  },
  {
   "cell_type": "code",
   "execution_count": null,
   "id": "32e82bc8",
   "metadata": {},
   "outputs": [],
   "source": [
    "plt.plot(fdg_filter)\n",
    "plt.show()"
   ]
  },
  {
   "cell_type": "code",
   "execution_count": null,
   "id": "abaee829",
   "metadata": {},
   "outputs": [],
   "source": [
    "tdg_filter = np.fft.irfft(fdg_filter)\n",
    "tdg_filter = np.fft.fftshift(tdg_filter)"
   ]
  },
  {
   "cell_type": "code",
   "execution_count": null,
   "id": "33eaa63f",
   "metadata": {},
   "outputs": [],
   "source": [
    "plt.plot(tdg_filter)\n",
    "plt.show()"
   ]
  },
  {
   "cell_type": "code",
   "execution_count": null,
   "id": "a23be0fe",
   "metadata": {},
   "outputs": [],
   "source": [
    "signal = signal[:512]\n",
    "signal.shape, tdg_filter.shape"
   ]
  },
  {
   "cell_type": "code",
   "execution_count": null,
   "id": "66eb8697",
   "metadata": {},
   "outputs": [],
   "source": [
    "padded_signal = np.pad(signal, (len(tdg_filter), len(tdg_filter)))\n",
    "padded_signal.shape"
   ]
  },
  {
   "cell_type": "code",
   "execution_count": null,
   "id": "a9786c18",
   "metadata": {},
   "outputs": [],
   "source": [
    "result = np.convolve(padded_signal, tdg_filter, 'valid')\n",
    "# result = result[8000:-8001]\n",
    "result.shape"
   ]
  },
  {
   "cell_type": "code",
   "execution_count": null,
   "id": "4732a4d5",
   "metadata": {},
   "outputs": [],
   "source": [
    "plt.plot(result[7500:-7500])\n",
    "plt.show()"
   ]
  },
  {
   "cell_type": "code",
   "execution_count": null,
   "id": "1654e866",
   "metadata": {},
   "outputs": [],
   "source": [
    "Audio(result, rate=sample_rate)"
   ]
  },
  {
   "cell_type": "code",
   "execution_count": null,
   "id": "1c914e16",
   "metadata": {},
   "outputs": [],
   "source": [
    "plt.plot(np.abs(np.fft.rfft(result)))\n",
    "plt.show()"
   ]
  },
  {
   "cell_type": "code",
   "execution_count": null,
   "id": "67ae9104",
   "metadata": {},
   "outputs": [],
   "source": [
    "result_fft = np.abs(np.fft.rfft(result))\n",
    "bands = np.array([np.sum(result_fft[i * (len(result_fft) // n_bands):(i + 1) * (len(result_fft) // n_bands)]) for i in range(n_bands)])"
   ]
  },
  {
   "cell_type": "code",
   "execution_count": null,
   "id": "91c26168",
   "metadata": {},
   "outputs": [],
   "source": [
    "def cosine_similarity(x, y):\n",
    "    return (x @ y) / (np.linalg.norm(x) * np.linalg.norm(y))"
   ]
  },
  {
   "cell_type": "code",
   "execution_count": null,
   "id": "7e283220",
   "metadata": {},
   "outputs": [],
   "source": [
    "bands = []\n",
    "for i in range(101):\n",
    "    begin = max(0, 160 * i - 80)\n",
    "    end = min(17999, 160 * (i+1) - 80)\n",
    "    bands.append(np.mean(result_fft[begin:end]))\n",
    "bands = np.array(bands)\n",
    "\n",
    "controls = np.zeros(101)\n",
    "for i in one_bands:\n",
    "    controls[i] = 1.0"
   ]
  },
  {
   "cell_type": "code",
   "execution_count": null,
   "id": "bb0e02ac",
   "metadata": {},
   "outputs": [],
   "source": [
    "plt.bar(range(101), bands / 80)\n",
    "plt.bar(range(101), controls)\n",
    "plt.show()"
   ]
  },
  {
   "cell_type": "code",
   "execution_count": null,
   "id": "f0693a70",
   "metadata": {},
   "outputs": [],
   "source": [
    "cosine_similarity(bands, controls)"
   ]
  },
  {
   "cell_type": "markdown",
   "id": "c8a68808",
   "metadata": {},
   "source": [
    "## Convert all of the above to pytorch"
   ]
  },
  {
   "cell_type": "markdown",
   "id": "42fabb29",
   "metadata": {},
   "source": [
    "bicubic interpolation is 10x slower than linear. but windowing also takes as much as bicubic interpolation"
   ]
  },
  {
   "cell_type": "code",
   "execution_count": null,
   "id": "011b1020",
   "metadata": {},
   "outputs": [],
   "source": [
    "controls = torch.rand(1, 1, 1, 100)\n",
    "intr_bands = F.interpolate(controls, (1, 8001), mode='bicubic')"
   ]
  },
  {
   "cell_type": "code",
   "execution_count": null,
   "id": "022abf65",
   "metadata": {},
   "outputs": [],
   "source": [
    "plt.bar(range(100), controls[0, 0, 0].numpy())"
   ]
  },
  {
   "cell_type": "code",
   "execution_count": null,
   "id": "150a69e7",
   "metadata": {},
   "outputs": [],
   "source": [
    "plt.plot(intr_bands[0, 0, 0].numpy())"
   ]
  },
  {
   "cell_type": "code",
   "execution_count": null,
   "id": "523e81bd",
   "metadata": {},
   "outputs": [],
   "source": [
    "fdg_filter = intr_bands[0, 0, 0].numpy()\n",
    "controls = controls[0, 0, 0].numpy()"
   ]
  },
  {
   "cell_type": "code",
   "execution_count": null,
   "id": "8e7241f4",
   "metadata": {},
   "outputs": [],
   "source": [
    "tdg_filter = np.fft.irfft(fdg_filter)\n",
    "tdg_filter = np.fft.fftshift(tdg_filter)"
   ]
  },
  {
   "cell_type": "code",
   "execution_count": null,
   "id": "cc23c466",
   "metadata": {},
   "outputs": [],
   "source": [
    "plt.plot(tdg_filter)\n",
    "plt.show()"
   ]
  },
  {
   "cell_type": "code",
   "execution_count": null,
   "id": "0d79f0ee",
   "metadata": {},
   "outputs": [],
   "source": [
    "signal.shape, tdg_filter.shape"
   ]
  },
  {
   "cell_type": "code",
   "execution_count": null,
   "id": "a2bc35ba",
   "metadata": {},
   "outputs": [],
   "source": [
    "padded_signal = np.pad(signal, (len(tdg_filter), len(tdg_filter)))"
   ]
  },
  {
   "cell_type": "code",
   "execution_count": null,
   "id": "2d144289",
   "metadata": {},
   "outputs": [],
   "source": [
    "result = np.convolve(padded_signal, tdg_filter, 'valid')\n",
    "result = result[8000:-8001]\n",
    "result.shape"
   ]
  },
  {
   "cell_type": "code",
   "execution_count": null,
   "id": "c2d6ea2e",
   "metadata": {},
   "outputs": [],
   "source": [
    "plt.plot(result[:1000])\n",
    "plt.show()"
   ]
  },
  {
   "cell_type": "code",
   "execution_count": null,
   "id": "325798c0",
   "metadata": {},
   "outputs": [],
   "source": [
    "Audio(result, rate=sample_rate)"
   ]
  },
  {
   "cell_type": "code",
   "execution_count": null,
   "id": "f5009261",
   "metadata": {},
   "outputs": [],
   "source": [
    "result_fft = np.abs(np.fft.rfft(result))"
   ]
  },
  {
   "cell_type": "code",
   "execution_count": null,
   "id": "b5a0a054",
   "metadata": {},
   "outputs": [],
   "source": [
    "plt.plot(np.linspace(0, 16001, 16001), result_fft / 230)\n",
    "plt.plot(np.linspace(0, 16001, 8001), fdg_filter)\n",
    "plt.show()"
   ]
  },
  {
   "cell_type": "code",
   "execution_count": null,
   "id": "70cf48bb",
   "metadata": {},
   "outputs": [],
   "source": [
    "np.fft.rfftfreq(16000, 1/16000)"
   ]
  },
  {
   "cell_type": "code",
   "execution_count": null,
   "id": "46418ea1",
   "metadata": {},
   "outputs": [],
   "source": [
    "result_fft.shape"
   ]
  },
  {
   "cell_type": "code",
   "execution_count": null,
   "id": "05799e43",
   "metadata": {},
   "outputs": [],
   "source": []
  },
  {
   "cell_type": "code",
   "execution_count": null,
   "id": "519f08e2",
   "metadata": {},
   "outputs": [],
   "source": [
    "signal = torch.rand(1, 1, 1, 16000) * 2.0 - 1.0"
   ]
  },
  {
   "cell_type": "code",
   "execution_count": null,
   "id": "b16a023b",
   "metadata": {},
   "outputs": [],
   "source": [
    "plt.plot(signal.numpy()[0, 0, 0])"
   ]
  },
  {
   "cell_type": "code",
   "execution_count": null,
   "id": "f88b2aa3",
   "metadata": {},
   "outputs": [],
   "source": [
    "# windowed = signal.unfold(1, 2048, 512)\n",
    "windowed = F.unfold(signal, kernel_size=(1, 2048), stride=(1, 512))"
   ]
  },
  {
   "cell_type": "code",
   "execution_count": null,
   "id": "974c883c",
   "metadata": {},
   "outputs": [],
   "source": [
    "plt.plot(windowed.numpy()[0, :, 0])"
   ]
  },
  {
   "cell_type": "code",
   "execution_count": null,
   "id": "32c128d7",
   "metadata": {},
   "outputs": [],
   "source": [
    "rebuild = F.fold(windowed * torch.hann_window(2048)[None, :, None], (1, 16000), (1, 2048), stride=(1, 512)) / 2.0"
   ]
  },
  {
   "cell_type": "code",
   "execution_count": null,
   "id": "1f959f26",
   "metadata": {},
   "outputs": [],
   "source": [
    "plt.plot(rebuild[0, 0, 0])"
   ]
  },
  {
   "cell_type": "code",
   "execution_count": null,
   "id": "2e2f784c",
   "metadata": {},
   "outputs": [],
   "source": [
    "plt.plot((rebuild[0, 0, 0] - signal.numpy()[0, 0, 0])[2048:-2048])"
   ]
  },
  {
   "cell_type": "code",
   "execution_count": null,
   "id": "71832e34",
   "metadata": {},
   "outputs": [],
   "source": []
  }
 ],
 "metadata": {
  "kernelspec": {
   "display_name": "Python 3 (ipykernel)",
   "language": "python",
   "name": "python3"
  },
  "language_info": {
   "codemirror_mode": {
    "name": "ipython",
    "version": 3
   },
   "file_extension": ".py",
   "mimetype": "text/x-python",
   "name": "python",
   "nbconvert_exporter": "python",
   "pygments_lexer": "ipython3",
   "version": "3.9.7"
  }
 },
 "nbformat": 4,
 "nbformat_minor": 5
}
