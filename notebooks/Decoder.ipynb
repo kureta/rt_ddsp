{
 "cells": [
  {
   "cell_type": "code",
   "execution_count": null,
   "id": "f6f2d60a",
   "metadata": {},
   "outputs": [],
   "source": [
    "%matplotlib inline\n",
    "import matplotlib.pyplot as plt\n",
    "plt.rcParams['figure.figsize'] = [17, 6]\n",
    "from IPython.display import Audio\n",
    "from ipywidgets import HTML"
   ]
  },
  {
   "cell_type": "code",
   "execution_count": null,
   "id": "eeabaf11",
   "metadata": {},
   "outputs": [],
   "source": [
    "from zak.model import Decoder\n",
    "from zak.dataset import Parameters\n",
    "from torch.utils.data import DataLoader"
   ]
  },
  {
   "cell_type": "code",
   "execution_count": null,
   "id": "5f7bdd68",
   "metadata": {},
   "outputs": [],
   "source": [
    "model = Decoder()\n",
    "data = Parameters()\n",
    "loader = DataLoader(data, 8)"
   ]
  },
  {
   "cell_type": "code",
   "execution_count": null,
   "id": "533f108c",
   "metadata": {},
   "outputs": [],
   "source": [
    "for audio, pitch, loudness in loader:\n",
    "    x_hat = model(pitch.permute(0, 2, 1), loudness.permute(0, 2, 1))\n",
    "    break"
   ]
  },
  {
   "cell_type": "code",
   "execution_count": null,
   "id": "f0dda75c",
   "metadata": {},
   "outputs": [],
   "source": [
    "Audio(x_hat[0, 0].detach(), rate=48000)"
   ]
  },
  {
   "cell_type": "code",
   "execution_count": null,
   "id": "8938649b",
   "metadata": {},
   "outputs": [],
   "source": [
    "Audio(audio[0, 0].detach(), rate=48000)"
   ]
  },
  {
   "cell_type": "code",
   "execution_count": null,
   "id": "38212c54",
   "metadata": {},
   "outputs": [],
   "source": []
  }
 ],
 "metadata": {
  "kernelspec": {
   "display_name": "Python 3 (ipykernel)",
   "language": "python",
   "name": "python3"
  },
  "language_info": {
   "codemirror_mode": {
    "name": "ipython",
    "version": 3
   },
   "file_extension": ".py",
   "mimetype": "text/x-python",
   "name": "python",
   "nbconvert_exporter": "python",
   "pygments_lexer": "ipython3",
   "version": "3.9.7"
  }
 },
 "nbformat": 4,
 "nbformat_minor": 5
}
