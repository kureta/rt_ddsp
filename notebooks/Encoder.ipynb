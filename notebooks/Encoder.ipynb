{
 "cells": [
  {
   "cell_type": "code",
   "execution_count": null,
   "id": "ac3d8f06",
   "metadata": {},
   "outputs": [],
   "source": [
    "%matplotlib inline\n",
    "import matplotlib.pyplot as plt\n",
    "plt.rcParams['figure.figsize'] = [17, 6]\n",
    "from IPython.display import Audio\n",
    "from ipywidgets import HTML"
   ]
  },
  {
   "cell_type": "code",
   "execution_count": null,
   "id": "703a411b",
   "metadata": {},
   "outputs": [],
   "source": [
    "import torch\n",
    "from pathlib import Path"
   ]
  },
  {
   "cell_type": "code",
   "execution_count": null,
   "id": "83e5ffca",
   "metadata": {},
   "outputs": [],
   "source": [
    "import torchcrepe"
   ]
  },
  {
   "cell_type": "code",
   "execution_count": null,
   "id": "21a24844",
   "metadata": {},
   "outputs": [],
   "source": [
    "from zak.model.encoder import encode"
   ]
  },
  {
   "cell_type": "code",
   "execution_count": null,
   "id": "fd79461d",
   "metadata": {},
   "outputs": [],
   "source": [
    "audio_path = Path('/home/kureta/Music/violin/audio.pth')\n",
    "pitch_path = audio_path.with_name('pitch.pth')\n",
    "loudness_path = audio_path.with_name('loudness.pth')\n",
    "periodicity_path = audio_path.with_name('periodicity.pth')"
   ]
  },
  {
   "cell_type": "code",
   "execution_count": null,
   "id": "a017cc28",
   "metadata": {},
   "outputs": [],
   "source": [
    "audio = torch.load(audio_path)\n",
    "pitch = torch.load(pitch_path)\n",
    "loudness = torch.load(loudness_path)\n",
    "periodicity = torch.load(periodicity_path)"
   ]
  },
  {
   "cell_type": "code",
   "execution_count": null,
   "id": "07dbc70f",
   "metadata": {},
   "outputs": [],
   "source": [
    "pitch, loudness, periodicity = encode(audio[:, :48000])"
   ]
  },
  {
   "cell_type": "code",
   "execution_count": null,
   "id": "fc5c0c0f",
   "metadata": {},
   "outputs": [],
   "source": [
    "Audio(audio[0, :48000], rate=48000)"
   ]
  },
  {
   "cell_type": "code",
   "execution_count": null,
   "id": "d93b13ea",
   "metadata": {},
   "outputs": [],
   "source": [
    "plt.plot(pitch[0, :100])\n",
    "plt.show()"
   ]
  },
  {
   "cell_type": "code",
   "execution_count": null,
   "id": "f6c5f8f2",
   "metadata": {},
   "outputs": [],
   "source": [
    "start = 48000 * 0\n",
    "end = start + 48000 * 10\n",
    "s = 100 * 0\n",
    "e = s + 100 * 10\n",
    "\n",
    "plt.plot(periodicity[0, -e:])\n",
    "plt.plot((loudness[0, -e:] + 90.) / 90.)\n",
    "plt.plot((pitch[0, -e:] - 190.) / 2700.)\n",
    "plt.show()"
   ]
  },
  {
   "cell_type": "code",
   "execution_count": null,
   "id": "4f262824",
   "metadata": {},
   "outputs": [],
   "source": [
    "Audio(data=audio[0:, -end:], rate=48000)"
   ]
  },
  {
   "cell_type": "code",
   "execution_count": null,
   "id": "8933ecee",
   "metadata": {},
   "outputs": [],
   "source": [
    "def __encode(audio: torch.Tensor,\n",
    "           sample_rate: int = 48000,\n",
    "           hop_size: int = 480,\n",
    "           f_min: float = 190.0,\n",
    "           f_max: float = 2800.0):\n",
    "    # Provide a sensible frequency range for your domain (upper limit is 2006 Hz)\n",
    "    # Select a model capacity--one of \"tiny\" or \"full\"\n",
    "    model = 'full'\n",
    "\n",
    "    # Choose a device to use for inference\n",
    "    device = 'cuda:0'\n",
    "\n",
    "    # Pick a batch size that doesn't cause memory errors on your gpu\n",
    "    batch_size = 2048\n",
    "\n",
    "    # Compute pitch using first gpu\n",
    "    pitch, periodicity = torchcrepe.predict(audio,\n",
    "                                            sample_rate,\n",
    "                                            hop_size,\n",
    "                                            f_min,\n",
    "                                            f_max,\n",
    "                                            model,\n",
    "                                            batch_size=batch_size,\n",
    "                                            device=device,\n",
    "                                            decoder=torchcrepe.decode.weighted_argmax,\n",
    "                                            return_periodicity=True)\n",
    "\n",
    "    # Filter silence\n",
    "    periodicity = torchcrepe.threshold.Silence(-90.)(periodicity,\n",
    "                                                     audio,\n",
    "                                                     sample_rate,\n",
    "                                                     hop_size)\n",
    "\n",
    "    # We'll use a 15 millisecond window assuming a hop length of 5 milliseconds\n",
    "    win_length = 3\n",
    "\n",
    "    # Median filter noisy confidence value\n",
    "    periodicity = torchcrepe.filter.median(periodicity, win_length)\n",
    "\n",
    "    # Remove inharmonic regions\n",
    "    pitch = torchcrepe.threshold.At(.21)(pitch, periodicity)\n",
    "\n",
    "    # Optionally smooth pitch to remove quantization artifacts\n",
    "    pitch = torchcrepe.filter.mean(pitch, win_length)\n",
    "\n",
    "    # Unvoiced regions were set to nan. Set them to 0 instead\n",
    "    pitch.nan_to_num_()\n",
    "\n",
    "    # calculate loudness\n",
    "    loudness = torchcrepe.loudness.a_weighted(audio, sample_rate, hop_size)\n",
    "\n",
    "    return pitch, loudness, periodicity"
   ]
  },
  {
   "cell_type": "code",
   "execution_count": null,
   "id": "df28db5b",
   "metadata": {},
   "outputs": [],
   "source": [
    "pitch, loudness, periodicity = __encode(audio[:, :48000 * 10])"
   ]
  },
  {
   "cell_type": "code",
   "execution_count": null,
   "id": "17a6f863",
   "metadata": {},
   "outputs": [],
   "source": [
    "plt.plot(periodicity[0])\n",
    "plt.plot((loudness[0] + 90.) / 90.)\n",
    "plt.plot((pitch[0] - 190.) / 2700.)\n",
    "plt.show()"
   ]
  },
  {
   "cell_type": "code",
   "execution_count": null,
   "id": "ee30ac62",
   "metadata": {},
   "outputs": [],
   "source": [
    "Audio(audio[0, :48000 * 10], rate=48000)"
   ]
  },
  {
   "cell_type": "code",
   "execution_count": null,
   "id": "479d9913",
   "metadata": {},
   "outputs": [],
   "source": []
  }
 ],
 "metadata": {
  "kernelspec": {
   "display_name": "Python 3 (ipykernel)",
   "language": "python",
   "name": "python3"
  },
  "language_info": {
   "codemirror_mode": {
    "name": "ipython",
    "version": 3
   },
   "file_extension": ".py",
   "mimetype": "text/x-python",
   "name": "python",
   "nbconvert_exporter": "python",
   "pygments_lexer": "ipython3",
   "version": "3.9.7"
  }
 },
 "nbformat": 4,
 "nbformat_minor": 5
}
