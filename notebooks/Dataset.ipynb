{
 "cells": [
  {
   "cell_type": "code",
   "execution_count": null,
   "id": "6c72cc3b",
   "metadata": {},
   "outputs": [],
   "source": [
    "%matplotlib inline\n",
    "import matplotlib.pyplot as plt\n",
    "plt.rcParams['figure.figsize'] = [17, 6]\n",
    "from IPython.display import Audio\n",
    "from ipywidgets import HTML"
   ]
  },
  {
   "cell_type": "code",
   "execution_count": null,
   "id": "a2042dbe",
   "metadata": {},
   "outputs": [],
   "source": [
    "from zak.dataset import Parameters"
   ]
  },
  {
   "cell_type": "code",
   "execution_count": null,
   "id": "768ed0a4",
   "metadata": {},
   "outputs": [],
   "source": [
    "asd = Parameters()"
   ]
  },
  {
   "cell_type": "code",
   "execution_count": null,
   "id": "1bb4a4a7",
   "metadata": {},
   "outputs": [],
   "source": [
    "asd.audio.shape"
   ]
  },
  {
   "cell_type": "code",
   "execution_count": null,
   "id": "72eb169a",
   "metadata": {},
   "outputs": [],
   "source": [
    "asd.pitch.shape"
   ]
  },
  {
   "cell_type": "code",
   "execution_count": null,
   "id": "5cc0c34e",
   "metadata": {},
   "outputs": [],
   "source": [
    "96000/200"
   ]
  },
  {
   "cell_type": "code",
   "execution_count": null,
   "id": "b3aed685",
   "metadata": {},
   "outputs": [],
   "source": []
  }
 ],
 "metadata": {
  "kernelspec": {
   "display_name": "Python 3 (ipykernel)",
   "language": "python",
   "name": "python3"
  },
  "language_info": {
   "codemirror_mode": {
    "name": "ipython",
    "version": 3
   },
   "file_extension": ".py",
   "mimetype": "text/x-python",
   "name": "python",
   "nbconvert_exporter": "python",
   "pygments_lexer": "ipython3",
   "version": "3.9.7"
  }
 },
 "nbformat": 4,
 "nbformat_minor": 5
}
