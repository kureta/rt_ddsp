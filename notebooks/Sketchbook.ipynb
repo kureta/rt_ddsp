{
 "cells": [
  {
   "cell_type": "code",
   "execution_count": null,
   "id": "8fa27858",
   "metadata": {},
   "outputs": [],
   "source": [
    "import torch"
   ]
  },
  {
   "cell_type": "code",
   "execution_count": null,
   "id": "7e2ba200",
   "metadata": {},
   "outputs": [],
   "source": [
    "asd = torch.rand(100, 1000, device='cuda:0')"
   ]
  },
  {
   "cell_type": "code",
   "execution_count": null,
   "id": "73c9e499",
   "metadata": {},
   "outputs": [],
   "source": [
    "torch"
   ]
  }
 ],
 "metadata": {
  "kernelspec": {
   "display_name": "Python 3 (ipykernel)",
   "language": "python",
   "name": "python3"
  },
  "language_info": {
   "codemirror_mode": {
    "name": "ipython",
    "version": 3
   },
   "file_extension": ".py",
   "mimetype": "text/x-python",
   "name": "python",
   "nbconvert_exporter": "python",
   "pygments_lexer": "ipython3",
   "version": "3.9.7"
  }
 },
 "nbformat": 4,
 "nbformat_minor": 5
}
